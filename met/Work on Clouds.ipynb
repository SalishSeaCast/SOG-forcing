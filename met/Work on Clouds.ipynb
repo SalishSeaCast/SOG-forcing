{
 "metadata": {
  "name": "",
  "signature": "sha256:fa3818fbe267ed47a9bfaa5e85dd8eaabaa76f09689fcfbd1cfb8917ed8ef4d5"
 },
 "nbformat": 3,
 "nbformat_minor": 0,
 "worksheets": [
  {
   "cells": [
    {
     "cell_type": "code",
     "collapsed": false,
     "input": [
      "import matplotlib.pyplot as plt\n",
      "%matplotlib inline\n",
      "import numpy as np"
     ],
     "language": "python",
     "metadata": {},
     "outputs": [],
     "prompt_number": 140
    },
    {
     "cell_type": "code",
     "collapsed": false,
     "input": [
      "firstpart = np.loadtxt('YVRhistCF')\n",
      "secondpart = np.loadtxt('yvr_2014_82.txt')\n",
      "thirdpart = np.loadtxt('yvr_2014_82b.txt')\n",
      "fourthpart = np.loadtxt('yvr_2015_82a.txt')\n",
      "fifthpart = np.loadtxt('yvr_2015_82.txt')"
     ],
     "language": "python",
     "metadata": {},
     "outputs": [],
     "prompt_number": 141
    },
    {
     "cell_type": "code",
     "collapsed": false,
     "input": [
      "print np.max(firstpart[:,5:29]), np.min(firstpart[:,5:29])\n",
      "print np.max(secondpart[:,5:29]), np.min(secondpart[:,5:29])"
     ],
     "language": "python",
     "metadata": {},
     "outputs": [
      {
       "output_type": "stream",
       "stream": "stdout",
       "text": [
        "10.0 0.0\n",
        "10.0 -99999.0\n"
       ]
      }
     ],
     "prompt_number": 142
    },
    {
     "cell_type": "code",
     "collapsed": false,
     "input": [
      "for j in range(0,secondpart.shape[0]):\n",
      "    i = 5\n",
      "    if secondpart[j,i] < 0:\n",
      "        print i, secondpart[j,i]\n",
      "    for i in range(6,28):\n",
      "        if secondpart[j,i] < 0:\n",
      "            secondpart[j,i] = 0.5 *(secondpart[j,i-1] + secondpart[j,i+1])\n",
      "    i = 28\n",
      "    if secondpart[j,i] < 0:\n",
      "            secondpart[j,i] = 0.5 *(secondpart[j,i-1] + secondpart[j+1,5])"
     ],
     "language": "python",
     "metadata": {},
     "outputs": [],
     "prompt_number": 143
    },
    {
     "cell_type": "code",
     "collapsed": false,
     "input": [
      "print np.max(secondpart[:,5:29]), np.min(secondpart[:,5:29])\n",
      "print secondpart[-1]"
     ],
     "language": "python",
     "metadata": {},
     "outputs": [
      {
       "output_type": "stream",
       "stream": "stdout",
       "text": [
        "10.0 0.0\n",
        "[  1.10844700e+06   2.01300000e+03   6.00000000e+00   1.20000000e+01\n",
        "   8.20000000e+01   1.00000000e+01   1.00000000e+01   9.00000000e+00\n",
        "   9.00000000e+00   9.00000000e+00   9.00000000e+00   1.00000000e+01\n",
        "   1.00000000e+01   1.00000000e+01   1.00000000e+01   1.00000000e+01\n",
        "   1.00000000e+01   1.00000000e+01   1.00000000e+01   9.00000000e+00\n",
        "   6.00000000e+00   4.00000000e+00   4.00000000e+00   7.00000000e+00\n",
        "   8.00000000e+00   8.00000000e+00   5.00000000e+00   6.00000000e+00\n",
        "   4.00000000e+00]\n"
       ]
      }
     ],
     "prompt_number": 144
    },
    {
     "cell_type": "code",
     "collapsed": false,
     "input": [
      "for j in range(0,thirdpart.shape[0]):\n",
      "    i = 6\n",
      "    if thirdpart[j,i] < 0:\n",
      "        print j, i, thirdpart[j,i]\n",
      "    for i in range(9,27,3):\n",
      "        if thirdpart[j,i] < 0:\n",
      "            print j, i, thirdpart[j,i]\n",
      "    i = 27\n",
      "    if thirdpart[j,i] < 0:\n",
      "        print j, i, thirdpart[j,i]"
     ],
     "language": "python",
     "metadata": {},
     "outputs": [],
     "prompt_number": 154
    },
    {
     "cell_type": "code",
     "collapsed": false,
     "input": [
      "print thirdpart[93,24], thirdpart[94,15]\n",
      "thirdpart[93,27] = thirdpart[93,24]; thirdpart[94,6:15:3] = thirdpart[94,15]\n",
      "\n",
      "print thirdpart[116,9], thirdpart[116,21]\n",
      "thirdpart[116,12:21] = thirdpart[116,21]\n",
      "\n",
      "print thirdpart[126,12:24:3], thirdpart[128,18:30:3]\n",
      "average = (sum(thirdpart[126,12:24:3]) + sum(thirdpart[128,18:30:3]))/8.\n",
      "print average\n",
      "thirdpart[126,24:30:3] = average; thirdpart[127,6:30:3] = average; thirdpart[128,6:18] = average\n",
      "\n",
      "thirdpart[130,9] = 0.5 * (thirdpart[130,6] + thirdpart[130,12])\n",
      "\n",
      "print thirdpart[130,21], thirdpart[131,18]\n",
      "thirdpart[130,24:30:3] = thirdpart[130,21]; thirdpart[131,6:18:3] = thirdpart[131,18]\n",
      "\n",
      "print thirdpart[131,27],thirdpart[132,6:15:3], thirdpart[133,12:24:3]\n",
      "average = (thirdpart[131,27] + sum(thirdpart[132,6:15:3]) + sum(thirdpart[133,12:24:3]))/8.\n",
      "print average\n",
      "thirdpart[132,15:30:3] = average; thirdpart[133,6:12:3] = average\n",
      "\n",
      "print thirdpart[217,15:27:3], thirdpart[218,12:24:3]\n",
      "average = (sum(thirdpart[217,15:27:3]) + sum(thirdpart[218,12:24:3]))/8.\n",
      "print average\n",
      "thirdpart[217,27] = average; thirdpart[218,6:12:3] = average\n",
      "\n",
      "thirdpart[224,6] = 0.5 * (thirdpart[223,27] + thirdpart[224,9])\n",
      "\n",
      "print thirdpart[225,15:27:3], thirdpart[226,15], thirdpart[226,21:30:3]\n",
      "average = (sum(thirdpart[225,15:27:3]) + thirdpart[226,15] + sum(thirdpart[226,21:30:3]))/8.\n",
      "print average\n",
      "thirdpart[225,27] = average; thirdpart[226,6:15:3] = average; thirdpart[226,18] = average\n",
      "\n",
      "thirdpart[254,15] = 0.5 * (thirdpart[254,12] + thirdpart[254,18])\n",
      "\n",
      "thirdpart[254,21] = 0.5 * (thirdpart[254,18] + thirdpart[254,24])"
     ],
     "language": "python",
     "metadata": {},
     "outputs": [
      {
       "output_type": "stream",
       "stream": "stdout",
       "text": [
        "10.0 10.0\n",
        "10.0 10.0\n",
        "[  0.  10.   9.   1.] [ 10.  10.  10.  10.]\n",
        "7.5\n",
        "10.0 10.0\n",
        "3.0 [ 1.  0.  1.] [  3.  10.  10.  10.]\n",
        "4.75\n",
        "[ 10.  10.  10.   3.] [  1.   5.  10.  10.]\n",
        "7.375\n",
        "[ 1.  1.  1.  0.] 6.0 [  1.  10.  10.]\n",
        "3.75\n"
       ]
      }
     ],
     "prompt_number": 146
    },
    {
     "cell_type": "code",
     "collapsed": false,
     "input": [
      "j = 0\n",
      "#thirdpart[j,5] = thirdpart[j,6]\n",
      "#thirdpart[j,7:26:3] = 0.67 * thirdpart[j,6:25:3] + 0.33 * thirdpart[j,9:28:3]\n",
      "#thirdpart[j,8:27:3] = 0.33 * thirdpart[j,6:25:3] + 0.67 * thirdpart[j,9:28:3]\n",
      "#thirdpart[j,28] = 0.67 * thirdpart[j,27] + 0.33 * thirdpart[j+1,6]\n",
      "thirdpart[j,16:26:3] = 0.67 * thirdpart[j,15:25:3] + 0.33 * thirdpart[j,18:28:3]\n",
      "thirdpart[j,17:27:3] = 0.33 * thirdpart[j,15:25:3] + 0.67 * thirdpart[j,18:28:3]\n",
      "thirdpart[j,28] = 0.67 * thirdpart[j,27] + 0.33 * thirdpart[j+1,6]\n",
      "print thirdpart[0]\n",
      "for j in range(1,thirdpart.shape[0]-1):\n",
      "     thirdpart[j,5] = 0.33 * thirdpart[j-1,27] + 0.67 * thirdpart[j,6]\n",
      "     thirdpart[j,7:26:3] = 0.67 * thirdpart[j,6:25:3] + 0.33 * thirdpart[j,9:28:3]\n",
      "     thirdpart[j,8:27:3] = 0.33 * thirdpart[j,6:25:3] + 0.67 * thirdpart[j,9:28:3]\n",
      "     thirdpart[j,28] = 0.67 * thirdpart[j,27] + 0.33 * thirdpart[j+1,6] \n",
      "j = thirdpart.shape[0]-1\n",
      "thirdpart[j,5] = 0.33 * thirdpart[j-1,27] + 0.67 * thirdpart[j,6]\n",
      "thirdpart[j,7:26:3] = 0.67 * thirdpart[j,6:25:3] + 0.33 * thirdpart[j,9:28:3]\n",
      "thirdpart[j,8:27:3] = 0.33 * thirdpart[j,6:25:3] + 0.67 * thirdpart[j,9:28:3]\n",
      "thirdpart[j,28] = thirdpart[j,27]"
     ],
     "language": "python",
     "metadata": {},
     "outputs": [
      {
       "output_type": "stream",
       "stream": "stdout",
       "text": [
        "[  1.10844700e+06   2.01300000e+03   6.00000000e+00   1.30000000e+01\n",
        "   8.20000000e+01   3.00000000e+00   2.00000000e+00   0.00000000e+00\n",
        "   3.00000000e+00   1.00000000e+00   3.00000000e+00   7.00000000e+00\n",
        "   3.00000000e+00   5.00000000e+00   2.00000000e+00   4.00000000e+00\n",
        "   3.67000000e+00   3.33000000e+00   3.00000000e+00   3.33000000e+00\n",
        "   3.67000000e+00   4.00000000e+00   5.65000000e+00   7.35000000e+00\n",
        "   9.00000000e+00   9.33000000e+00   9.67000000e+00   1.00000000e+01\n",
        "   1.00000000e+01]\n"
       ]
      }
     ],
     "prompt_number": 147
    },
    {
     "cell_type": "code",
     "collapsed": false,
     "input": [
      "print np.max(thirdpart[:,5:29]), np.min(thirdpart[:,5:29])\n",
      "print thirdpart[-1]"
     ],
     "language": "python",
     "metadata": {},
     "outputs": [
      {
       "output_type": "stream",
       "stream": "stdout",
       "text": [
        "10.0 0.0\n",
        "[  1.10839500e+06   2.01400000e+03   2.00000000e+00   2.40000000e+01\n",
        "   8.20000000e+01   1.00000000e+01   1.00000000e+01   1.00000000e+01\n",
        "   1.00000000e+01   1.00000000e+01   1.00000000e+01   1.00000000e+01\n",
        "   1.00000000e+01   9.34000000e+00   8.66000000e+00   8.00000000e+00\n",
        "   7.34000000e+00   6.66000000e+00   6.00000000e+00   5.83500000e+00\n",
        "   5.66500000e+00   5.50000000e+00   5.33500000e+00   5.16500000e+00\n",
        "   5.00000000e+00   6.65000000e+00   8.35000000e+00   1.00000000e+01\n",
        "   1.00000000e+01]\n"
       ]
      }
     ],
     "prompt_number": 148
    },
    {
     "cell_type": "code",
     "collapsed": false,
     "input": [
      "print np.max(fourthpart[:,5:29]), np.min(fourthpart[:,5:29])\n",
      "print fourthpart[-1]"
     ],
     "language": "python",
     "metadata": {},
     "outputs": [
      {
       "output_type": "stream",
       "stream": "stdout",
       "text": [
        "10.0 -99999.0\n",
        "[  1.10839500e+06   2.01400000e+03   5.00000000e+00   2.90000000e+01\n",
        "   8.20000000e+01  -9.99990000e+04   1.00000000e+01  -9.99990000e+04\n",
        "  -9.99990000e+04   1.00000000e+01  -9.99990000e+04  -9.99990000e+04\n",
        "   1.00000000e+01  -9.99990000e+04  -9.99990000e+04   1.00000000e+01\n",
        "  -9.99990000e+04  -9.99990000e+04   1.00000000e+01  -9.99990000e+04\n",
        "  -9.99990000e+04   1.00000000e+01  -9.99990000e+04  -9.99990000e+04\n",
        "   9.00000000e+00  -9.99990000e+04  -9.99990000e+04   9.00000000e+00\n",
        "  -9.99990000e+04]\n"
       ]
      }
     ],
     "prompt_number": 149
    },
    {
     "cell_type": "code",
     "collapsed": false,
     "input": [
      "for j in range(0,fourthpart.shape[0]):\n",
      "    i = 6\n",
      "    if fourthpart[j,i] < 0:\n",
      "        print j, i, fourthpart[j,i]\n",
      "    for i in range(9,27,3):\n",
      "        if fourthpart[j,i] < 0:\n",
      "            print j, i, fourthpart[j,i]\n",
      "    i = 27\n",
      "    if fourthpart[j,i] < 0:\n",
      "        print j, i, fourthpart[j,i]"
     ],
     "language": "python",
     "metadata": {},
     "outputs": [],
     "prompt_number": 155
    },
    {
     "cell_type": "code",
     "collapsed": false,
     "input": [
      "print fourthpart[16,15:27:3], fourthpart[17,12:24:3]\n",
      "average = (sum(fourthpart[16,15:27:3]) + sum(fourthpart[17,12:24:3]))/8.\n",
      "print average\n",
      "fourthpart[16,27] = average; fourthpart[17,6:12:3] = average\n",
      "\n",
      "fourthpart[23,6] = 0.5 * (fourthpart[22,27] + fourthpart[23,9])\n",
      "\n",
      "print fourthpart[24,15:27:3], fourthpart[25,21:30:3], fourthpart[26,6]\n",
      "average = (sum(fourthpart[24,15:27:3]) + sum(fourthpart[25,21:30:3]) + fourthpart[26,6])/8.\n",
      "print average\n",
      "fourthpart[24,27] = average; fourthpart[25,6:21:3] = average\n",
      "\n",
      "fourthpart[53,15] = 0.5 * (fourthpart[53,12] + fourthpart[53,18])\n",
      "\n",
      "fourthpart[53,21] = 0.5 * (fourthpart[53,18] + fourthpart[53,24])\n",
      "\n",
      "print fourthpart[138,6:18:3], fourthpart[139,15:27:3]\n",
      "average = (sum(fourthpart[138,6:18:3]) + sum(fourthpart[139,15:27:3]))/8.\n",
      "print average\n",
      "fourthpart[138,18:30:3] = average; fourthpart[139,6:15:3] = average"
     ],
     "language": "python",
     "metadata": {},
     "outputs": [
      {
       "output_type": "stream",
       "stream": "stdout",
       "text": [
        "[ 10.  10.  10.   3.] [  1.   5.  10.  10.]\n",
        "7.375\n",
        "[ 1.  1.  1.  0.] [  1.  10.  10.] 10.0\n",
        "4.25\n",
        "[  9.   9.  10.   4.] [  6.   8.   9.  10.]\n",
        "8.125\n"
       ]
      }
     ],
     "prompt_number": 151
    },
    {
     "cell_type": "code",
     "collapsed": false,
     "input": [
      "def inter_by_three(fourthpart):\n",
      "    j = 0\n",
      "    fourthpart[j,5] = fourthpart[j,6]\n",
      "    fourthpart[j,7:26:3] = 0.67 * fourthpart[j,6:25:3] + 0.33 * fourthpart[j,9:28:3]\n",
      "    fourthpart[j,8:27:3] = 0.33 * fourthpart[j,6:25:3] + 0.67 * fourthpart[j,9:28:3]\n",
      "    fourthpart[j,28] = 0.67 * fourthpart[j,27] + 0.33 * fourthpart[j+1,6]\n",
      "    for j in range(1,fourthpart.shape[0]-1):\n",
      "         fourthpart[j,5] = 0.33 * fourthpart[j-1,27] + 0.67 * fourthpart[j,6]\n",
      "         fourthpart[j,7:26:3] = 0.67 * fourthpart[j,6:25:3] + 0.33 * fourthpart[j,9:28:3]\n",
      "         fourthpart[j,8:27:3] = 0.33 * fourthpart[j,6:25:3] + 0.67 * fourthpart[j,9:28:3]\n",
      "         fourthpart[j,28] = 0.67 * fourthpart[j,27] + 0.33 * fourthpart[j+1,6] \n",
      "    j = fourthpart.shape[0]-1\n",
      "    fourthpart[j,5] = 0.33 * fourthpart[j-1,27] + 0.67 * fourthpart[j,6]\n",
      "    fourthpart[j,7:26:3] = 0.67 * fourthpart[j,6:25:3] + 0.33 * fourthpart[j,9:28:3]\n",
      "    fourthpart[j,8:27:3] = 0.33 * fourthpart[j,6:25:3] + 0.67 * fourthpart[j,9:28:3]\n",
      "    fourthpart[j,28] = fourthpart[j,27]\n",
      "    return fourthpart"
     ],
     "language": "python",
     "metadata": {},
     "outputs": [],
     "prompt_number": 156
    },
    {
     "cell_type": "code",
     "collapsed": false,
     "input": [
      "fourthpart = inter_by_three(fourthpart)\n",
      "print np.max(fourthpart[:,5:29]), np.min(fourthpart[:,5:29])\n",
      "print fourthpart[-1]"
     ],
     "language": "python",
     "metadata": {},
     "outputs": [
      {
       "output_type": "stream",
       "stream": "stdout",
       "text": [
        "10.0 0.0\n",
        "[  1.10839500e+06   2.01400000e+03   5.00000000e+00   2.90000000e+01\n",
        "   8.20000000e+01   1.00000000e+01   1.00000000e+01   1.00000000e+01\n",
        "   1.00000000e+01   1.00000000e+01   1.00000000e+01   1.00000000e+01\n",
        "   1.00000000e+01   1.00000000e+01   1.00000000e+01   1.00000000e+01\n",
        "   1.00000000e+01   1.00000000e+01   1.00000000e+01   1.00000000e+01\n",
        "   1.00000000e+01   1.00000000e+01   9.67000000e+00   9.33000000e+00\n",
        "   9.00000000e+00   9.00000000e+00   9.00000000e+00   9.00000000e+00\n",
        "   9.00000000e+00]\n"
       ]
      }
     ],
     "prompt_number": 157
    },
    {
     "cell_type": "code",
     "collapsed": false,
     "input": [
      "print np.max(fifthpart[:,5:29]), np.min(fifthpart[:,5:29])\n",
      "print fifthpart[-1]"
     ],
     "language": "python",
     "metadata": {},
     "outputs": [
      {
       "output_type": "stream",
       "stream": "stdout",
       "text": [
        "10.0 -99999.0\n",
        "[  1.10839500e+06   2.01500000e+03   4.00000000e+00   2.10000000e+01\n",
        "   8.20000000e+01  -9.99990000e+04   3.00000000e+00  -9.99990000e+04\n",
        "  -9.99990000e+04   3.00000000e+00  -9.99990000e+04  -9.99990000e+04\n",
        "   8.00000000e+00  -9.99990000e+04  -9.99990000e+04   1.00000000e+01\n",
        "  -9.99990000e+04  -9.99990000e+04   1.00000000e+01  -9.99990000e+04\n",
        "  -9.99990000e+04   1.00000000e+01  -9.99990000e+04  -9.99990000e+04\n",
        "   9.00000000e+00  -9.99990000e+04  -9.99990000e+04   9.00000000e+00\n",
        "  -9.99990000e+04]\n"
       ]
      }
     ],
     "prompt_number": 158
    },
    {
     "cell_type": "code",
     "collapsed": false,
     "input": [
      "for j in range(0,fifthpart.shape[0]):\n",
      "    i = 6\n",
      "    if fifthpart[j,i] < 0:\n",
      "        print j, i, fifthpart[j,i]\n",
      "    for i in range(9,27,3):\n",
      "        if fifthpart[j,i] < 0:\n",
      "            print j, i, fifthpart[j,i]\n",
      "    i = 27\n",
      "    if fifthpart[j,i] < 0:\n",
      "        print j, i, fifthpart[j,i]"
     ],
     "language": "python",
     "metadata": {},
     "outputs": [],
     "prompt_number": 161
    },
    {
     "cell_type": "code",
     "collapsed": false,
     "input": [
      "print fifthpart[6,27], fifthpart[7,6:15:3], fifthpart[8,18:30:3]\n",
      "average = (fifthpart[6,27] + sum(fifthpart[7,6:15:3]) + sum(fifthpart[8,18:30:3]))/8.\n",
      "print average\n",
      "fifthpart[7,15:30:3] = average; fifthpart[8,6:18:3] = average\n",
      "\n",
      "fifthpart[14,15] = 0.5*(fifthpart[14,12] + fifthpart[14,18])\n",
      "\n",
      "fifthpart[97,21] = 0.5 * (fifthpart[97,18] + fifthpart[97,24])\n",
      "\n",
      "print fifthpart[231,18:30:3], fifthpart[232,12:24:3]\n",
      "average = (sum(fifthpart[231,18:30:3]) + sum(fifthpart[232,12:24:3]))/8.\n",
      "print average\n",
      "fifthpart[232,6:12:3] = average\n",
      "\n",
      "fifthpart[238,12] = 0.5 * (fifthpart[238,9] + fifthpart[238,15])\n",
      "\n",
      "print fifthpart[249,9], fifthpart[249,18]\n",
      "fifthpart[249,12] = fifthpart[249,9]; fifthpart[249,15] = fifthpart[249,18]\n",
      "\n",
      "fifthpart[249,27] = 0.5 * (fifthpart[249,24] + fifthpart[250,6])\n",
      "fifthpart[258,12] = 0.5 * (fifthpart[258,9] + fifthpart[258,15])\n",
      "fifthpart[262,6] = 0.5 * (fifthpart[261,27] + fifthpart[262,9])\n",
      "fifthpart[290,24] = 0.5 * (fifthpart[290,21] + fifthpart[290,27])\n",
      "\n",
      "print fifthpart[291,15:27:3], fifthpart[292,18:30:3]\n",
      "average = (sum(fifthpart[291,15:27:3]) + sum(fifthpart[292,18:30:3]))/8.\n",
      "print average\n",
      "fifthpart[291,27] = average; fifthpart[292,6:18] = average\n"
     ],
     "language": "python",
     "metadata": {},
     "outputs": [
      {
       "output_type": "stream",
       "stream": "stdout",
       "text": [
        "1.0 [  4.   9.  10.] [ 0.  0.  0.  0.]\n",
        "3.0\n",
        "[ 10.  10.   3.   1.] [  9.  10.   9.  10.]\n",
        "7.75\n",
        "9.0 9.0\n",
        "[  1.  10.   0.   1.] [ 10.  10.  10.  10.]\n",
        "6.5\n"
       ]
      }
     ],
     "prompt_number": 160
    },
    {
     "cell_type": "code",
     "collapsed": false,
     "input": [
      "fifthpart = inter_by_three(fifthpart)\n",
      "print np.max(fifthpart[:,5:29]), np.min(fifthpart[:,5:29])\n",
      "print fifthpart[-1]"
     ],
     "language": "python",
     "metadata": {},
     "outputs": [
      {
       "output_type": "stream",
       "stream": "stdout",
       "text": [
        "10.0 0.0\n",
        "[  1.10839500e+06   2.01500000e+03   4.00000000e+00   2.10000000e+01\n",
        "   8.20000000e+01   3.00000000e+00   3.00000000e+00   3.00000000e+00\n",
        "   3.00000000e+00   3.00000000e+00   4.65000000e+00   6.35000000e+00\n",
        "   8.00000000e+00   8.66000000e+00   9.34000000e+00   1.00000000e+01\n",
        "   1.00000000e+01   1.00000000e+01   1.00000000e+01   1.00000000e+01\n",
        "   1.00000000e+01   1.00000000e+01   9.67000000e+00   9.33000000e+00\n",
        "   9.00000000e+00   9.00000000e+00   9.00000000e+00   9.00000000e+00\n",
        "   9.00000000e+00]\n"
       ]
      }
     ],
     "prompt_number": 162
    },
    {
     "cell_type": "code",
     "collapsed": false,
     "input": [
      "print firstpart[0,1:4]\n",
      "print firstpart[-1,1:4]\n",
      "print secondpart[0,1:4]\n",
      "print secondpart[-1,1:4]\n",
      "print thirdpart[0,1:4]\n",
      "print thirdpart[-1,1:4]\n",
      "print fourthpart[0,1:4]\n",
      "print fourthpart[-1,1:4]\n",
      "print fifthpart[0,1:4]\n",
      "print fifthpart[-1,1:4]"
     ],
     "language": "python",
     "metadata": {},
     "outputs": [
      {
       "output_type": "stream",
       "stream": "stdout",
       "text": [
        "[  1.95300000e+03   1.00000000e+00   1.00000000e+00]\n",
        "[ 2011.    12.    31.]\n",
        "[  2.01000000e+03   1.00000000e+00   1.00000000e+00]\n",
        "[ 2013.     6.    12.]\n",
        "[ 2013.     6.    13.]\n",
        "[  2.01400000e+03   2.00000000e+00   2.40000000e+01]\n",
        "[  2.01400000e+03   1.00000000e+00   1.00000000e+00]\n",
        "[ 2014.     5.    29.]\n",
        "[ 2014.     5.    21.]\n",
        "[ 2015.     4.    21.]\n"
       ]
      }
     ],
     "prompt_number": 163
    },
    {
     "cell_type": "code",
     "collapsed": false,
     "input": [
      "total = np.zeros((firstpart.shape[0]+secondpart.shape[0]+thirdpart.shape[0]+fourthpart.shape[0]+fifthpart.shape[0],firstpart.shape[1]))\n",
      "print total.shape\n",
      "total = np.zeros((22756,29))"
     ],
     "language": "python",
     "metadata": {},
     "outputs": [
      {
       "output_type": "stream",
       "stream": "stdout",
       "text": [
        "(23539, 29)\n"
       ]
      }
     ],
     "prompt_number": 238
    },
    {
     "cell_type": "code",
     "collapsed": false,
     "input": [
      "fin = firstpart.shape[0]\n",
      "total[0:fin] = firstpart\n",
      "sta = fin\n",
      "print total[fin,1:4]\n",
      "print secondpart[730,1:4]\n",
      "fin = sta+secondpart.shape[0]-730\n",
      "total[sta:fin] = secondpart[730:]\n",
      "sta = fin\n",
      "print thirdpart[201,1:4]\n",
      "fin = sta+201\n",
      "total[sta:fin] = thirdpart[:201]\n",
      "sta = fin\n",
      "fin = sta + fourthpart.shape[0] - 2\n",
      "total[sta:fin] = fourthpart[:-2]\n",
      "sta = fin \n",
      "fin = sta + fifthpart.shape[0]\n",
      "total[sta:fin] = fifthpart\n",
      "# patch Oct 22, 2013\n",
      "total[22210:fin+1] = total[22209:fin]\n",
      "total[22209,3] = 22\n",
      "fin = fin+1\n",
      "# May 29, 2014\n",
      "print fourthpart[-1]\n",
      "total[22428:fin+1] = total[22427:fin]\n",
      "total[22427] = fourthpart[-1]\n",
      "fin = fin+1\n",
      "# Jan 27, 2014\n",
      "total[22306:fin+1] = total[22305:fin]\n",
      "total[22305,3] = 26\n",
      "total[22305,6:30] = 4.25\n",
      "fin = fin +1\n",
      "print fin, total[fin-1]"
     ],
     "language": "python",
     "metadata": {},
     "outputs": [
      {
       "output_type": "stream",
       "stream": "stdout",
       "text": [
        " [  2.01200000e+03   1.00000000e+00   1.00000000e+00]\n",
        "[  2.01200000e+03   1.00000000e+00   1.00000000e+00]\n",
        "[  2.01400000e+03   1.00000000e+00   1.00000000e+00]\n",
        "[  1.10839500e+06   2.01400000e+03   5.00000000e+00   2.90000000e+01\n",
        "   8.20000000e+01   1.00000000e+01   1.00000000e+01   1.00000000e+01\n",
        "   1.00000000e+01   1.00000000e+01   1.00000000e+01   1.00000000e+01\n",
        "   1.00000000e+01   1.00000000e+01   1.00000000e+01   1.00000000e+01\n",
        "   1.00000000e+01   1.00000000e+01   1.00000000e+01   1.00000000e+01\n",
        "   1.00000000e+01   1.00000000e+01   9.67000000e+00   9.33000000e+00\n",
        "   9.00000000e+00   9.00000000e+00   9.00000000e+00   9.00000000e+00\n",
        "   9.00000000e+00]\n",
        "22756 [  1.10839500e+06   2.01500000e+03   4.00000000e+00   2.10000000e+01\n",
        "   8.20000000e+01   3.00000000e+00   3.00000000e+00   3.00000000e+00\n",
        "   3.00000000e+00   3.00000000e+00   4.65000000e+00   6.35000000e+00\n",
        "   8.00000000e+00   8.66000000e+00   9.34000000e+00   1.00000000e+01\n",
        "   1.00000000e+01   1.00000000e+01   1.00000000e+01   1.00000000e+01\n",
        "   1.00000000e+01   1.00000000e+01   9.67000000e+00   9.33000000e+00\n",
        "   9.00000000e+00   9.00000000e+00   9.00000000e+00   9.00000000e+00\n",
        "   9.00000000e+00]\n"
       ]
      }
     ],
     "prompt_number": 241
    },
    {
     "cell_type": "code",
     "collapsed": false,
     "input": [
      "for i in range(total.shape[0]):\n",
      "    if total[i,1] == 2014:\n",
      "        if total[i,3] - total[i-1,3] <> 1:\n",
      "            print total[i,1:4], total[i,3]-total[i-1,3], i"
     ],
     "language": "python",
     "metadata": {},
     "outputs": [
      {
       "output_type": "stream",
       "stream": "stdout",
       "text": [
        "[  2.01400000e+03   1.00000000e+00   1.00000000e+00] -30.0 22280\n",
        "[  2.01400000e+03   2.00000000e+00   1.00000000e+00] -30.0 22311\n",
        "[  2.01400000e+03   3.00000000e+00   1.00000000e+00] -27.0 22339\n",
        "[  2.01400000e+03   4.00000000e+00   1.00000000e+00] -30.0 22370\n",
        "[  2.01400000e+03   5.00000000e+00   1.00000000e+00] -29.0 22400\n",
        "[  2.01400000e+03   6.00000000e+00   1.00000000e+00] -30.0 22431\n",
        "[  2.01400000e+03   7.00000000e+00   1.00000000e+00] -29.0 22461\n",
        "[  2.01400000e+03   8.00000000e+00   1.00000000e+00] -30.0 22492\n",
        "[  2.01400000e+03   9.00000000e+00   1.00000000e+00] -30.0 22523\n",
        "[  2.01400000e+03   1.00000000e+01   1.00000000e+00] -29.0 22553\n",
        "[  2.01400000e+03   1.10000000e+01   1.00000000e+00] -30.0 22584\n",
        "[  2.01400000e+03   1.20000000e+01   1.00000000e+00] -29.0 22614\n"
       ]
      }
     ],
     "prompt_number": 237
    },
    {
     "cell_type": "code",
     "collapsed": false,
     "input": [
      "print total[22300:22310]"
     ],
     "language": "python",
     "metadata": {},
     "outputs": [
      {
       "output_type": "stream",
       "stream": "stdout",
       "text": [
        "[[  1.10839500e+06   2.01400000e+03   1.00000000e+00   2.10000000e+01\n",
        "    8.20000000e+01   2.68000000e+00   4.00000000e+00   4.00000000e+00\n",
        "    4.00000000e+00   4.00000000e+00   3.67000000e+00   3.33000000e+00\n",
        "    3.00000000e+00   3.33000000e+00   3.67000000e+00   4.00000000e+00\n",
        "    5.98000000e+00   8.02000000e+00   1.00000000e+01   1.00000000e+01\n",
        "    1.00000000e+01   1.00000000e+01   1.00000000e+01   1.00000000e+01\n",
        "    1.00000000e+01   9.67000000e+00   9.33000000e+00   9.00000000e+00\n",
        "    9.33000000e+00]\n",
        " [  1.10839500e+06   2.01400000e+03   1.00000000e+00   2.20000000e+01\n",
        "    8.20000000e+01   9.67000000e+00   1.00000000e+01   1.00000000e+01\n",
        "    1.00000000e+01   1.00000000e+01   1.00000000e+01   1.00000000e+01\n",
        "    1.00000000e+01   1.00000000e+01   1.00000000e+01   1.00000000e+01\n",
        "    8.35000000e+00   6.65000000e+00   5.00000000e+00   3.35000000e+00\n",
        "    1.65000000e+00   0.00000000e+00   0.00000000e+00   0.00000000e+00\n",
        "    0.00000000e+00   0.00000000e+00   0.00000000e+00   0.00000000e+00\n",
        "    3.30000000e-01]\n",
        " [  1.10839500e+06   2.01400000e+03   1.00000000e+00   2.30000000e+01\n",
        "    8.20000000e+01   6.70000000e-01   1.00000000e+00   1.66000000e+00\n",
        "    2.34000000e+00   3.00000000e+00   3.00000000e+00   3.00000000e+00\n",
        "    3.00000000e+00   5.31000000e+00   7.69000000e+00   1.00000000e+01\n",
        "    9.67000000e+00   9.33000000e+00   9.00000000e+00   7.68000000e+00\n",
        "    6.32000000e+00   5.00000000e+00   4.34000000e+00   3.66000000e+00\n",
        "    3.00000000e+00   2.01000000e+00   9.90000000e-01   0.00000000e+00\n",
        "    6.60000000e-01]\n",
        " [  1.10839500e+06   2.01400000e+03   1.00000000e+00   2.40000000e+01\n",
        "    8.20000000e+01   1.34000000e+00   2.00000000e+00   2.66000000e+00\n",
        "    3.34000000e+00   4.00000000e+00   3.67000000e+00   3.33000000e+00\n",
        "    3.00000000e+00   5.31000000e+00   7.69000000e+00   1.00000000e+01\n",
        "    1.00000000e+01   1.00000000e+01   1.00000000e+01   9.34000000e+00\n",
        "    8.66000000e+00   8.00000000e+00   7.01000000e+00   5.99000000e+00\n",
        "    5.00000000e+00   4.67000000e+00   4.33000000e+00   4.00000000e+00\n",
        "    3.67000000e+00]\n",
        " [  1.10839500e+06   2.01400000e+03   1.00000000e+00   2.50000000e+01\n",
        "    8.20000000e+01   3.33000000e+00   3.00000000e+00   2.01000000e+00\n",
        "    9.90000000e-01   0.00000000e+00   9.90000000e-01   2.01000000e+00\n",
        "    3.00000000e+00   2.34000000e+00   1.66000000e+00   1.00000000e+00\n",
        "    1.00000000e+00   1.00000000e+00   1.00000000e+00   1.00000000e+00\n",
        "    1.00000000e+00   1.00000000e+00   6.70000000e-01   3.30000000e-01\n",
        "    0.00000000e+00   1.40250000e+00   2.84750000e+00   4.25000000e+00\n",
        "    4.25000000e+00]\n",
        " [  1.10839500e+06   2.01400000e+03   1.00000000e+00   2.60000000e+01\n",
        "    8.20000000e+01   4.25000000e+00   4.25000000e+00   4.25000000e+00\n",
        "    4.25000000e+00   4.25000000e+00   4.25000000e+00   4.25000000e+00\n",
        "    4.25000000e+00   4.25000000e+00   4.25000000e+00   4.25000000e+00\n",
        "    4.25000000e+00   4.25000000e+00   4.25000000e+00   4.25000000e+00\n",
        "    4.25000000e+00   4.25000000e+00   4.25000000e+00   4.25000000e+00\n",
        "    4.25000000e+00   4.25000000e+00   4.25000000e+00   4.25000000e+00\n",
        "    4.25000000e+00]\n",
        " [  1.10839500e+06   2.01400000e+03   1.00000000e+00   2.70000000e+01\n",
        "    8.20000000e+01   4.25000000e+00   4.25000000e+00   4.25000000e+00\n",
        "    4.25000000e+00   4.25000000e+00   4.25000000e+00   4.25000000e+00\n",
        "    4.25000000e+00   4.25000000e+00   4.25000000e+00   4.25000000e+00\n",
        "    4.25000000e+00   4.25000000e+00   4.25000000e+00   3.17750000e+00\n",
        "    2.07250000e+00   1.00000000e+00   3.97000000e+00   7.03000000e+00\n",
        "    1.00000000e+01   1.00000000e+01   1.00000000e+01   1.00000000e+01\n",
        "    1.00000000e+01]\n",
        " [  1.10839500e+06   2.01400000e+03   1.00000000e+00   2.80000000e+01\n",
        "    8.20000000e+01   1.00000000e+01   1.00000000e+01   1.00000000e+01\n",
        "    1.00000000e+01   1.00000000e+01   1.00000000e+01   1.00000000e+01\n",
        "    1.00000000e+01   1.00000000e+01   1.00000000e+01   1.00000000e+01\n",
        "    1.00000000e+01   1.00000000e+01   1.00000000e+01   1.00000000e+01\n",
        "    1.00000000e+01   1.00000000e+01   1.00000000e+01   1.00000000e+01\n",
        "    1.00000000e+01   1.00000000e+01   1.00000000e+01   1.00000000e+01\n",
        "    1.00000000e+01]\n",
        " [  1.10839500e+06   2.01400000e+03   1.00000000e+00   2.90000000e+01\n",
        "    8.20000000e+01   1.00000000e+01   1.00000000e+01   1.00000000e+01\n",
        "    1.00000000e+01   1.00000000e+01   1.00000000e+01   1.00000000e+01\n",
        "    1.00000000e+01   1.00000000e+01   1.00000000e+01   1.00000000e+01\n",
        "    1.00000000e+01   1.00000000e+01   1.00000000e+01   8.35000000e+00\n",
        "    6.65000000e+00   5.00000000e+00   3.68000000e+00   2.32000000e+00\n",
        "    1.00000000e+00   3.64000000e+00   6.36000000e+00   9.00000000e+00\n",
        "    9.33000000e+00]\n",
        " [  1.10839500e+06   2.01400000e+03   1.00000000e+00   3.00000000e+01\n",
        "    8.20000000e+01   9.67000000e+00   1.00000000e+01   1.00000000e+01\n",
        "    1.00000000e+01   1.00000000e+01   1.00000000e+01   1.00000000e+01\n",
        "    1.00000000e+01   1.00000000e+01   1.00000000e+01   1.00000000e+01\n",
        "    1.00000000e+01   1.00000000e+01   1.00000000e+01   1.00000000e+01\n",
        "    1.00000000e+01   1.00000000e+01   1.00000000e+01   1.00000000e+01\n",
        "    1.00000000e+01   1.00000000e+01   1.00000000e+01   1.00000000e+01\n",
        "    9.34000000e+00]]\n"
       ]
      }
     ],
     "prompt_number": 235
    },
    {
     "cell_type": "code",
     "collapsed": false,
     "input": [
      "fmt = '%7i  %4i  %2i  %2i  %2i'\n",
      "add = '  %4.1f'\n",
      "for i in range(24):\n",
      "    fmt = fmt + add\n",
      "print fmt\n",
      "np.savetxt('newclouds',total, fmt=fmt,delimiter='  ')"
     ],
     "language": "python",
     "metadata": {},
     "outputs": [
      {
       "output_type": "stream",
       "stream": "stdout",
       "text": [
        "%7i  %4i  %2i  %2i  %2i  %4.1f  %4.1f  %4.1f  %4.1f  %4.1f  %4.1f  %4.1f  %4.1f  %4.1f  %4.1f  %4.1f  %4.1f  %4.1f  %4.1f  %4.1f  %4.1f  %4.1f  %4.1f  %4.1f  %4.1f  %4.1f  %4.1f  %4.1f  %4.1f\n"
       ]
      }
     ],
     "prompt_number": 253
    },
    {
     "cell_type": "code",
     "collapsed": false,
     "input": [],
     "language": "python",
     "metadata": {},
     "outputs": []
    }
   ],
   "metadata": {}
  }
 ]
}